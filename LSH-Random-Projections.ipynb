{
 "cells": [
  {
   "cell_type": "code",
   "execution_count": 1,
   "id": "8ac44263",
   "metadata": {},
   "outputs": [],
   "source": [
    "import pandas as pd\n",
    "import numpy as np\n",
    "import torch\n",
    "from tqdm import tqdm"
   ]
  },
  {
   "cell_type": "code",
   "execution_count": 2,
   "id": "82c7ba69",
   "metadata": {},
   "outputs": [],
   "source": [
    "tqdm.pandas()"
   ]
  },
  {
   "cell_type": "code",
   "execution_count": 3,
   "id": "001edb9f",
   "metadata": {},
   "outputs": [],
   "source": [
    "k = 6\n",
    "n = 28592\n",
    "q = 1000\n",
    "\n",
    "docs = pd.read_table('documents')\n",
    "docs_series = docs['28592 6 1000']"
   ]
  },
  {
   "cell_type": "code",
   "execution_count": 4,
   "id": "78b83353",
   "metadata": {},
   "outputs": [],
   "source": [
    "def kshingles(doc, k=6):\n",
    "    doc_len = len(doc)\n",
    "    num_shingles = doc_len - k + 1\n",
    "    return {doc[i:k+i] for i in range(num_shingles)}"
   ]
  },
  {
   "cell_type": "code",
   "execution_count": 5,
   "id": "51789474",
   "metadata": {},
   "outputs": [
    {
     "name": "stderr",
     "output_type": "stream",
     "text": [
      "100%|██████████████████████████████████████████████████████████████████████████| 28592/28592 [02:06<00:00, 225.95it/s]\n"
     ]
    }
   ],
   "source": [
    "kshingles_series = docs_series.progress_apply(kshingles)"
   ]
  },
  {
   "cell_type": "code",
   "execution_count": null,
   "id": "9ff07c3e",
   "metadata": {},
   "outputs": [],
   "source": [
    "def build_tokenizer(shingle_series):\n",
    "    all_shingles = set.union(*list(shingle_series))\n",
    "    all_shingles_sorted = sorted(list(all_shingles))\n",
    "    tokenizer = {all_shingles_sorted[i]:i for i in range(len(all_shingles_sorted))}\n",
    "    return tokenizer"
   ]
  },
  {
   "cell_type": "code",
   "execution_count": null,
   "id": "ff92ef18",
   "metadata": {},
   "outputs": [],
   "source": [
    "tokenizer = build_tokenizer(kshingles_series)"
   ]
  },
  {
   "cell_type": "code",
   "execution_count": 15,
   "id": "c010b9f4",
   "metadata": {},
   "outputs": [],
   "source": [
    "device = torch.device(\"cuda\" if torch.cuda.is_available() else \"cpu\")"
   ]
  },
  {
   "cell_type": "code",
   "execution_count": 17,
   "id": "6a2f3214",
   "metadata": {},
   "outputs": [],
   "source": [
    "def multi_hot(shingles, tokenizer, device):\n",
    "    vec = torch.zeros(len(tokenizer), device=device, dtype=torch.float, requires_grad=False)\n",
    "    for shingle in shingles:\n",
    "        idx = tokenizer[shingle]\n",
    "        vec[idx] = 1\n",
    "    return vec"
   ]
  },
  {
   "cell_type": "code",
   "execution_count": 130,
   "id": "bc778ace",
   "metadata": {},
   "outputs": [],
   "source": [
    "n_planes = 10  # number of hyperplanes\n",
    "d = len(tokenizer) \n",
    "\n",
    "plane_norms = np.random.rand(n_planes, d) - .5\n",
    "plane_norms = torch.from_numpy(plane_norms)\n",
    "plane_norms = plane_norms.to(device)"
   ]
  },
  {
   "cell_type": "code",
   "execution_count": 131,
   "id": "7680e710",
   "metadata": {},
   "outputs": [],
   "source": [
    "def randomly_project(vector, plane_norms):\n",
    "    with torch.no_grad():\n",
    "        dot_prod = ((vector@plane_norms.T) > 0).bool()\n",
    "        return dot_prod"
   ]
  },
  {
   "cell_type": "code",
   "execution_count": null,
   "id": "f4057f5f",
   "metadata": {},
   "outputs": [],
   "source": [
    "import math \n",
    "\n",
    "batch_size = 16\n",
    "shingles_encoded = []\n",
    "list_doc_shingles = list(kshingles_series)\n",
    "for i in tqdm(range(math.ceil(len(list_doc_shingles)/batch_size))):\n",
    "    batch = list_doc_shingles[batch_size*i: batch_size*(i+1)]\n",
    "    batch = torch.stack([multi_hot(shingle_set, tokenizer, device) for shingle_set in batch])\n",
    "    torch.cuda.empty_cache()\n",
    "    \n",
    "    with torch.no_grad():\n",
    "        encoding = randomly_project(batch, plane_norms.float())\n",
    "        shingles_encoded.append(encoding)\n",
    "        del batch"
   ]
  },
  {
   "cell_type": "code",
   "execution_count": 118,
   "id": "61312b80",
   "metadata": {},
   "outputs": [],
   "source": [
    "shingles_encoded = torch.concat(shingles_encoded)"
   ]
  },
  {
   "cell_type": "code",
   "execution_count": 121,
   "id": "22a3cc08",
   "metadata": {},
   "outputs": [],
   "source": [
    "shingles_encoded = shingles_encoded.int().cpu().numpy()"
   ]
  },
  {
   "cell_type": "code",
   "execution_count": 119,
   "id": "2e162a3b",
   "metadata": {},
   "outputs": [],
   "source": [
    "torch.save(shingles_encoded, 'shingles_encoded_10.pt')"
   ]
  },
  {
   "cell_type": "code",
   "execution_count": 9,
   "id": "d911e0bd",
   "metadata": {},
   "outputs": [],
   "source": [
    "import re\n",
    "from collections import defaultdict\n",
    "buckets = defaultdict(list) \n",
    "for i, encoding in enumerate(shingles_encoded):\n",
    "    encoding_str = re.sub('[^0-9]','', str(encoding))\n",
    "    buckets[encoding_str].append(i+1)"
   ]
  },
  {
   "cell_type": "code",
   "execution_count": 6,
   "id": "700a6b44",
   "metadata": {},
   "outputs": [],
   "source": [
    "def jacard(idx1, idx2):\n",
    "    intersect = len(kshingles_series[idx1 - 1].intersection(kshingles_series[idx2 - 1]))\n",
    "    union = len(kshingles_series[idx1 - 1].union(kshingles_series[idx2 - 1]))\n",
    "    return intersect/union"
   ]
  },
  {
   "cell_type": "code",
   "execution_count": 22,
   "id": "89733be7",
   "metadata": {},
   "outputs": [
    {
     "name": "stderr",
     "output_type": "stream",
     "text": [
      "100%|██████████████████████████████████████████████████████████████████████| 1014/1014 [19:20<00:00,  1.14s/it]\n"
     ]
    }
   ],
   "source": [
    "from itertools import combinations\n",
    "\n",
    "pairs = []\n",
    "for values in tqdm(buckets.values()):\n",
    "    if len(values) >= 2:\n",
    "        for comb in list(combinations(values, 2)):\n",
    "            jc = jacard(comb[0], comb[1])\n",
    "            if jc > 0.18:\n",
    "                pairs += [(jc, [comb[0], comb[1]])]"
   ]
  },
  {
   "cell_type": "code",
   "execution_count": 23,
   "id": "29d1a7c5",
   "metadata": {},
   "outputs": [],
   "source": [
    "torch.save(pairs, 'most_similar_tuples.pt')"
   ]
  },
  {
   "cell_type": "code",
   "execution_count": 32,
   "id": "fe00e54a",
   "metadata": {},
   "outputs": [],
   "source": [
    "sorted_pairs = sorted(pairs,key=lambda x:(-x[0],x[1][0]))\n",
    "n_sorted_pairs = sorted_pairs[:q]\n",
    "torch.save(n_sorted_pairs, 'n_most_similar_tuples.pt')"
   ]
  },
  {
   "cell_type": "code",
   "execution_count": 7,
   "id": "76de011e",
   "metadata": {},
   "outputs": [],
   "source": [
    "n_sorted_pairs = torch.load('n_most_similar_tuples.pt')"
   ]
  },
  {
   "cell_type": "code",
   "execution_count": 10,
   "id": "a7877c88",
   "metadata": {
    "scrolled": true
   },
   "outputs": [
    {
     "data": {
      "text/plain": [
       "Text(0.5, 0, 'Index')"
      ]
     },
     "execution_count": 10,
     "metadata": {},
     "output_type": "execute_result"
    },
    {
     "data": {
      "image/png": "[encoded data removed]",
      "text/plain": [
       "<Figure size 640x480 with 1 Axes>"
      ]
     },
     "metadata": {},
     "output_type": "display_data"
    }
   ],
   "source": [
    "import matplotlib.pyplot as plt\n",
    "scores = [pair[0] for pair in n_sorted_pairs]\n",
    "plt.style.use('ggplot')\n",
    "plt.plot(scores)\n",
    "plt.ylabel('Jaccard Similarity')\n",
    "plt.xlabel('Index')"
   ]
  },
  {
   "cell_type": "code",
   "execution_count": 35,
   "id": "08c3f9a7",
   "metadata": {},
   "outputs": [],
   "source": [
    "answer_columns = [pair[1] for pair in n_sorted_pairs]\n",
    "answer_df = pd.DataFrame(answer_columns)"
   ]
  },
  {
   "cell_type": "code",
   "execution_count": 38,
   "id": "c62b7cec",
   "metadata": {},
   "outputs": [],
   "source": [
    "answer_df.to_csv('lsh_ans', sep=' ', index=False, header=False)"
   ]
  },
  {
   "cell_type": "code",
   "execution_count": 11,
   "id": "df94e1cc",
   "metadata": {},
   "outputs": [],
   "source": [
    "tokenizer = torch.load('tokenizer.pt')"
   ]
  }
 ],
 "metadata": {
  "kernelspec": {
   "display_name": "Python 3 (ipykernel)",
   "language": "python",
   "name": "python3"
  },
  "language_info": {
   "codemirror_mode": {
    "name": "ipython",
    "version": 3
   },
   "file_extension": ".py",
   "mimetype": "text/x-python",
   "name": "python",
   "nbconvert_exporter": "python",
   "pygments_lexer": "ipython3",
   "version": "3.7.4"
  }
 },
 "nbformat": 4,
 "nbformat_minor": 5
}
